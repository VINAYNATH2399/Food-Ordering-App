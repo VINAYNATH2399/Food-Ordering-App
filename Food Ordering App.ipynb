{
 "cells": [
  {
   "cell_type": "code",
   "execution_count": 2,
   "id": "9c8eee88",
   "metadata": {},
   "outputs": [],
   "source": [
    "class Restaurant:\n",
    "    def __init__(self,name,add):\n",
    "        self.name = name\n",
    "        self.add = add\n",
    "        self.menu = dict()\n",
    "        self.orders = []\n",
    "        \n",
    "    def __repr__(self):\n",
    "        return f'name: {self.name}, Add:{self.add}'\n",
    "    \n",
    "    def add_menu(self,name,price):\n",
    "        self.menu.update({name:price})\n",
    "        \n",
    "    def print_menu(self):\n",
    "        for key,value in self.menu.items():\n",
    "            print(f'{key} -------> {str(value)}')\n",
    "            \n",
    "    def order_recieved(self,new_order):\n",
    "        self.orders.append(new_order) #order is recived from a user\n",
    "        \n",
    "    def print_orders(self):\n",
    "        for order in self.orders:\n",
    "            print(order)\n",
    "            \n",
    "    def deliver_order(self):\n",
    "        for order in self.orders:\n",
    "            if order.status =='Pending':\n",
    "                order.change_status()\n",
    "                print (order)\n",
    "        \n",
    "    def calculate_income(self):\n",
    "        income = 0\n",
    "        Users = set()\n",
    "        for order in self.orders:\n",
    "            if order.status == 'Delivered':\n",
    "                if order.username.name in Users:\n",
    "                    discount = 0\n",
    "                else:\n",
    "                    discount = 5\n",
    "                    Users.add(order.username.name)\n",
    "                    print(f'{discount}% discount is given to {order.username.name}')\n",
    "                    \n",
    "                item = order.item\n",
    "                qty = order.qty\n",
    "                price = self.menu.get(item)\n",
    "                income+=((price*qty)*((100-discount)/100))\n",
    "        print (income)\n",
    "        \n",
    "    \n",
    "class User:\n",
    "    def __init__(self,name,add,phone):\n",
    "        self.name = name\n",
    "        self.add = add\n",
    "        self.phone = phone\n",
    "        self.orders = [] #user's orders lisrt\n",
    "    def __repr__(self):\n",
    "        return f'name : {self.name},add : {self.add}, phone : {self.phone}'\n",
    "    \n",
    "    def print_menu(self,res_name):\n",
    "        res_name.print_menu()\n",
    "        \n",
    "    def order_food(self,res_name,item,qty):\n",
    "        new_order = Order(self,res_name,item,qty) #new order object is created\n",
    "        self.orders.append(new_order)      # order is appended to the orders list of user\n",
    "        res_name.order_recieved(new_order)\n",
    "        \n",
    "    def cancel_order(self):\n",
    "        last_order = self.orders[-1]\n",
    "        last_order.cancel_order()\n",
    "        \n",
    "        \n",
    "        \n",
    "        \n",
    "class Order:\n",
    "    def __init__(self,username,rest_name,item,qty):\n",
    "        self.username=username\n",
    "        self.rest_name = rest_name\n",
    "        self.item = item\n",
    "        self.qty = qty\n",
    "        self.status = 'Pending'\n",
    "        \n",
    "    def change_status(self):\n",
    "        self.status = 'Delivered'\n",
    "        \n",
    "    def cancel_order(self):\n",
    "        if self.status != 'Delivered':\n",
    "            self.status = 'Cancel'\n",
    "        \n",
    "    def __repr__(self):\n",
    "        return f'user:{self.username.name}, item : {self.item}, qty : {self.qty}, status: {self.status}'"
   ]
  },
  {
   "cell_type": "code",
   "execution_count": 3,
   "id": "fd3cc353",
   "metadata": {},
   "outputs": [],
   "source": [
    "Blue_Diamond = Restaurant('Blue_Diamond','Korba')\n",
    "Patiala_House = Restaurant('Patiala_House','Korba')\n",
    "Patiala_House.add_menu('Biriyani',150)\n",
    "Blue_Diamond.add_menu('chola bhatura',80)"
   ]
  },
  {
   "cell_type": "code",
   "execution_count": 4,
   "id": "0f0e8451",
   "metadata": {},
   "outputs": [],
   "source": [
    "Vinay = User('Vinay','Korba','26042022')"
   ]
  },
  {
   "cell_type": "code",
   "execution_count": 5,
   "id": "a2febce1",
   "metadata": {},
   "outputs": [
    {
     "name": "stdout",
     "output_type": "stream",
     "text": [
      "Biriyani -------> 150\n"
     ]
    }
   ],
   "source": [
    "Vinay.print_menu(Patiala_House)"
   ]
  },
  {
   "cell_type": "code",
   "execution_count": 6,
   "id": "606fb7e8",
   "metadata": {},
   "outputs": [],
   "source": [
    "Vinay.order_food(Patiala_House,'Biriyani',3)"
   ]
  },
  {
   "cell_type": "code",
   "execution_count": 7,
   "id": "4f455ebd",
   "metadata": {},
   "outputs": [
    {
     "name": "stdout",
     "output_type": "stream",
     "text": [
      "user:Vinay, item : Biriyani, qty : 3, status: Pending\n"
     ]
    }
   ],
   "source": [
    "Patiala_House.print_orders()"
   ]
  },
  {
   "cell_type": "code",
   "execution_count": 8,
   "id": "6db7b260",
   "metadata": {},
   "outputs": [
    {
     "name": "stdout",
     "output_type": "stream",
     "text": [
      "user:Vinay, item : Biriyani, qty : 3, status: Pending\n"
     ]
    }
   ],
   "source": [
    "Patiala_House.print_orders()"
   ]
  },
  {
   "cell_type": "code",
   "execution_count": 9,
   "id": "4aa2de28",
   "metadata": {},
   "outputs": [],
   "source": [
    "abhi = User('Abhi','Korba','26042022')"
   ]
  },
  {
   "cell_type": "code",
   "execution_count": 10,
   "id": "96455f55",
   "metadata": {},
   "outputs": [
    {
     "name": "stdout",
     "output_type": "stream",
     "text": [
      "chola bhatura -------> 80\n"
     ]
    }
   ],
   "source": [
    "abhi.print_menu(Blue_Diamond)"
   ]
  },
  {
   "cell_type": "code",
   "execution_count": 11,
   "id": "cf17d11e",
   "metadata": {},
   "outputs": [],
   "source": [
    "Vinay.order_food(Blue_Diamond,'chola bhatura',5)\n",
    "abhi.order_food(Blue_Diamond,'chola bhatura',4)\n",
    "Vinay.order_food(Blue_Diamond,'chola bhatura',2)"
   ]
  },
  {
   "cell_type": "code",
   "execution_count": 13,
   "id": "551c9d6f",
   "metadata": {},
   "outputs": [],
   "source": [
    "Vinay.cancel_order()"
   ]
  },
  {
   "cell_type": "code",
   "execution_count": 14,
   "id": "77c1eca3",
   "metadata": {},
   "outputs": [
    {
     "name": "stdout",
     "output_type": "stream",
     "text": [
      "user:Vinay, item : chola bhatura, qty : 5, status: Delivered\n",
      "user:Abhi, item : chola bhatura, qty : 4, status: Delivered\n"
     ]
    }
   ],
   "source": [
    "Blue_Diamond.deliver_order()"
   ]
  },
  {
   "cell_type": "code",
   "execution_count": 15,
   "id": "4dbbc17c",
   "metadata": {},
   "outputs": [
    {
     "name": "stdout",
     "output_type": "stream",
     "text": [
      "5% discount is given to Vinay\n",
      "5% discount is given to Abhi\n",
      "684.0\n"
     ]
    }
   ],
   "source": [
    "Blue_Diamond.calculate_income()"
   ]
  },
  {
   "cell_type": "code",
   "execution_count": 16,
   "id": "80a562b8",
   "metadata": {},
   "outputs": [],
   "source": [
    "dict1 = {'name':'Vinay','age':22}"
   ]
  },
  {
   "cell_type": "code",
   "execution_count": 17,
   "id": "c326b60f",
   "metadata": {},
   "outputs": [
    {
     "data": {
      "text/plain": [
       "'Vinay'"
      ]
     },
     "execution_count": 17,
     "metadata": {},
     "output_type": "execute_result"
    }
   ],
   "source": [
    "dict1.get('name','Key is Not present')"
   ]
  },
  {
   "cell_type": "code",
   "execution_count": null,
   "id": "0dbc5dfd",
   "metadata": {},
   "outputs": [],
   "source": []
  }
 ],
 "metadata": {
  "kernelspec": {
   "display_name": "Python 3 (ipykernel)",
   "language": "python",
   "name": "python3"
  },
  "language_info": {
   "codemirror_mode": {
    "name": "ipython",
    "version": 3
   },
   "file_extension": ".py",
   "mimetype": "text/x-python",
   "name": "python",
   "nbconvert_exporter": "python",
   "pygments_lexer": "ipython3",
   "version": "3.10.3"
  }
 },
 "nbformat": 4,
 "nbformat_minor": 5
}
